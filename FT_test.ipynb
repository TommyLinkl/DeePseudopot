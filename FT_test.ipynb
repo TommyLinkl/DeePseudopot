{
 "cells": [
  {
   "cell_type": "code",
   "execution_count": null,
   "id": "66f2b2bf-d3ee-41df-9cfe-d546186dfff9",
   "metadata": {},
   "outputs": [],
   "source": [
    "import os\n",
    "import numpy as np\n",
    "import time\n",
    "import matplotlib as mpl\n",
    "import matplotlib.pyplot as plt \n",
    "import torch\n",
    "from torch.utils.data import Dataset, DataLoader\n",
    "import torch.nn as nn\n",
    "import torch.nn.init as init\n",
    "from torch.optim.lr_scheduler import ExponentialLR\n",
    "\n",
    "from constants.constants import *\n",
    "from utils.nn_models import Net_relu_xavier, Net_relu_xavier_decay1, Net_relu_xavier_decay2\n",
    "from data.read import bulkSystem\n",
    "from utils.pp_func import pot_func, realSpacePot, plotBandStruct, plotPP, plot_training_validation_cost, FT_converge_and_write_pp\n",
    "from utils.bandStruct import calcHamiltonianMatrix_GPU, calcBandStruct_GPU\n",
    "from utils.init_NN_train import init_Zunger_data, init_Zunger_weighted_mse, init_Zunger_train_GPU\n",
    "from utils.NN_train import weighted_mse_bandStruct, BandStruct_train_GPU\n",
    "\n",
    "torch.set_default_dtype(torch.float32)\n",
    "torch.manual_seed(24)\n",
    "SHOWPLOTS = True\n",
    "\n",
    "if torch.cuda.is_available():\n",
    "    device = torch.device(\"cuda\")\n",
    "    print(\"CUDA is available.\\n\")\n",
    "else:\n",
    "    device = torch.device(\"cpu\")\n",
    "    print(\"CUDA is not available. Using CPU.\\n\")\n",
    "    "
   ]
  },
  {
   "cell_type": "code",
   "execution_count": null,
   "id": "e49c1708-3870-48aa-9050-ce54c0c194ef",
   "metadata": {},
   "outputs": [],
   "source": [
    "\n",
    "PPmodel = Net_relu_xavier_decay2([1, 20, 20, 20, 2])\n",
    "PPmodel.load_state_dict(torch.load('zbCdSe_results/epoch_199_PPmodel.pth')) # , map_location=torch.device('cpu')))\n",
    "\n",
    "PPmodel.eval()\n",
    "PPmodel.cpu()\n",
    "\n",
    "qmax = np.array([5.0, 8.0, 10.0, 20.0, 30.0, 40.0])\n",
    "'''\n",
    "FT_converge_and_write_pp(qmax, PPmodel, 0.0, 8.0, -2.0, 1.0, 30.0, 1024, \n",
    "                         'zbCdSe_results/final_plotPP.png', 'zbCdSe_results/final_potCd.dat', \n",
    "                         'zbCdSe_results/final_potSe.dat')\n",
    "'''"
   ]
  }
 ],
 "metadata": {
  "kernelspec": {
   "display_name": "NERSC Python",
   "language": "python",
   "name": "python3"
  },
  "language_info": {
   "codemirror_mode": {
    "name": "ipython",
    "version": 3
   },
   "file_extension": ".py",
   "mimetype": "text/x-python",
   "name": "python",
   "nbconvert_exporter": "python",
   "pygments_lexer": "ipython3",
   "version": "3.11.6"
  }
 },
 "nbformat": 4,
 "nbformat_minor": 5
}
